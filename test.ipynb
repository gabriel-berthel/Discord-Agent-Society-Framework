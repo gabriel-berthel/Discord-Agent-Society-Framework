{
 "cells": [
  {
   "cell_type": "code",
   "execution_count": null,
   "id": "f52ec012",
   "metadata": {},
   "outputs": [
    {
     "ename": "",
     "evalue": "",
     "output_type": "error",
     "traceback": [
      "\u001b[1;31mLes cellules en cours d’exécution avec chroma_env (Python 3.11.11) nécessitent le package ipykernel.\n",
      "\u001b[1;31m<a href='command:jupyter.createPythonEnvAndSelectController'>Créer un environnement Python</a> avec les packages requis.\n",
      "\u001b[1;31mOu installez « ipykernel » en utilisant la commande : « conda install -n chroma_env ipykernel --update-deps --force-reinstall »"
     ]
    }
   ],
   "source": [
    "import promptbench as pb\n",
    "import json\n",
    "from datetime import datetime\n",
    "from tqdm import tqdm\n",
    "import prompt_client\n",
    "import asyncio\n",
    "import ollama\n",
    "from promptbench.prompts import task_oriented, method_oriented, role_oriented\n"
   ]
  },
  {
   "cell_type": "code",
   "execution_count": null,
   "id": "0b7ae81b",
   "metadata": {},
   "outputs": [],
   "source": [
    "task_oriented.TASK_ORIENTED_PROMPTS[\"bool_logic\"]\n",
    "# → liste de 10 prompts qui posent une question de logique\n"
   ]
  },
  {
   "cell_type": "code",
   "execution_count": null,
   "id": "852991e6",
   "metadata": {},
   "outputs": [],
   "source": []
  },
  {
   "cell_type": "code",
   "execution_count": null,
   "id": "42131da3",
   "metadata": {},
   "outputs": [],
   "source": []
  },
  {
   "cell_type": "code",
   "execution_count": null,
   "id": "51240bec",
   "metadata": {},
   "outputs": [],
   "source": []
  },
  {
   "cell_type": "code",
   "execution_count": null,
   "id": "6d7e2a65",
   "metadata": {},
   "outputs": [],
   "source": []
  }
 ],
 "metadata": {
  "kernelspec": {
   "display_name": "chroma_env",
   "language": "python",
   "name": "python3"
  },
  "language_info": {
   "name": "python",
   "version": "3.11.11"
  }
 },
 "nbformat": 4,
 "nbformat_minor": 5
}
